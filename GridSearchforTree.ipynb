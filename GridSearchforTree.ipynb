{
 "cells": [
  {
   "cell_type": "code",
   "execution_count": null,
   "metadata": {},
   "outputs": [
    {
     "name": "stdout",
     "output_type": "stream",
     "text": [
      "Best Decision Tree Parameters: {'max_depth': 10, 'min_samples_leaf': 4, 'min_samples_split': 2}\n",
      "Best Decision Tree Cross-Validation Accuracy: 0.9000\n"
     ]
    }
   ],
   "source": [
    "import os\n",
    "import numpy as np\n",
    "import pandas as pd\n",
    "\n",
    "from sklearn.model_selection import GridSearchCV\n",
    "from sklearn.tree import DecisionTreeClassifier\n",
    "\n",
    "\n",
    "# Define parameter grid for Decision Tree\n",
    "dt_param_grid = {\n",
    "    'max_depth': [5, 10, 20, 30],\n",
    "    'min_samples_split': [2, 5, 10],\n",
    "    'min_samples_leaf': [1, 2, 4]\n",
    "    'criterion': ['gini', 'entropy']\n",
    "}\n",
    "\n",
    "# Define the directory containing the CSV files\n",
    "stat_feature_dir = 'E:/Abroad period research/new idea implementation codes/Second part of the paper/26 features results/statistical_features'\n",
    "# Load the CSV files\n",
    "train_df = pd.read_csv(os.path.join(stat_feature_dir, \"train_stat_features.csv\"))\n",
    "\n",
    "# Separate features and labels\n",
    "train_stat_features = train_df.drop(columns=['label']).values\n",
    "train_labels = train_df['label'].values\n",
    "\n",
    "# Initialize Decision Tree Classifier\n",
    "dt_clf = DecisionTreeClassifier(random_state=0)\n",
    "\n",
    "# Use GridSearchCV for Decision Tree with a limited number of folds (e.g., 3-fold) to save time\n",
    "dt_grid_search = GridSearchCV(estimator=dt_clf, param_grid=dt_param_grid, cv=3, scoring='accuracy', n_jobs=-1)\n",
    "\n",
    "# Fit the grid search model on training data\n",
    "dt_grid_search.fit(train_stat_features, train_labels)\n",
    "\n",
    "# Retrieve the best parameters and accuracy\n",
    "best_dt_params = dt_grid_search.best_params_\n",
    "best_dt_score = dt_grid_search.best_score_\n",
    "print(f\"Best Decision Tree Parameters: {best_dt_params}\")\n",
    "print(f\"Best Decision Tree Cross-Validation Accuracy: {best_dt_score:.4f}\")\n"
   ]
  }
 ],
 "metadata": {
  "kernelspec": {
   "display_name": "Python 3",
   "language": "python",
   "name": "python3"
  },
  "language_info": {
   "codemirror_mode": {
    "name": "ipython",
    "version": 3
   },
   "file_extension": ".py",
   "mimetype": "text/x-python",
   "name": "python",
   "nbconvert_exporter": "python",
   "pygments_lexer": "ipython3",
   "version": "3.12.5"
  }
 },
 "nbformat": 4,
 "nbformat_minor": 2
}
